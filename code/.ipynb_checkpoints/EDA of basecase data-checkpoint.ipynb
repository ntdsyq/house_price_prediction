{
 "cells": [
  {
   "cell_type": "markdown",
   "metadata": {},
   "source": [
    "Initial data cleaning & exploration for house price prediction"
   ]
  },
  {
   "cell_type": "code",
   "execution_count": 103,
   "metadata": {
    "scrolled": true
   },
   "outputs": [],
   "source": [
    "%matplotlib inline\n",
    "import matplotlib.pyplot as plt\n",
    "import seaborn as sns\n",
    "import numpy  as np\n",
    "import pandas as pd\n",
    "import pickle\n",
    "import scipy.stats as ss\n",
    "from statsmodels.graphics.gofplots import qqplot\n",
    "plt.style.use('ggplot')"
   ]
  },
  {
   "cell_type": "code",
   "execution_count": 104,
   "metadata": {
    "scrolled": true
   },
   "outputs": [
    {
     "data": {
      "text/plain": [
       "'0.23.4'"
      ]
     },
     "execution_count": 104,
     "metadata": {},
     "output_type": "execute_result"
    }
   ],
   "source": [
    "pd.__version__"
   ]
  },
  {
   "cell_type": "code",
   "execution_count": 112,
   "metadata": {},
   "outputs": [],
   "source": [
    "import xgboost"
   ]
  },
  {
   "cell_type": "code",
   "execution_count": 105,
   "metadata": {
    "scrolled": true
   },
   "outputs": [],
   "source": [
    "with open('basecase/train.pickle', 'rb') as f:\n",
    "    X, Xd, y, X_le = pickle.load(f)\n",
    "    \n",
    "with open('basecase/test.pickle', 'rb') as f:\n",
    "    Xt, Xdt, yt, X_le = pickle.load(f)\n",
    "\n",
    "xy = pd.concat([X,y], axis = 1)\n",
    "xyt = pd.concat([Xt,yt], axis = 1)"
   ]
  },
  {
   "cell_type": "code",
   "execution_count": 106,
   "metadata": {
    "scrolled": true
   },
   "outputs": [
    {
     "data": {
      "text/plain": [
       "Index(['MSZoning', 'LotFrontage', 'LotArea', 'Street', 'Alley', 'LotShape',\n",
       "       'LandContour', 'Utilities', 'LotConfig', 'LandSlope', 'Neighborhood',\n",
       "       'BldgType', 'HouseStyle', 'OverallQual', 'OverallCond', 'RoofStyle',\n",
       "       'RoofMatl', 'Exterior1st', 'Exterior2nd', 'MasVnrType', 'MasVnrArea',\n",
       "       'ExterQual', 'ExterCond', 'Foundation', 'BsmtQual', 'BsmtCond',\n",
       "       'BsmtExposure', 'BsmtFinType1', 'BsmtFinSF1', 'BsmtFinType2',\n",
       "       'BsmtFinSF2', 'BsmtUnfSF', 'TotalBsmtSF', 'Heating', 'HeatingQC',\n",
       "       'CentralAir', 'Electrical', '1stFlrSF', '2ndFlrSF', 'LowQualFinSF',\n",
       "       'GrLivArea', 'BsmtFullBath', 'BsmtHalfBath', 'FullBath', 'HalfBath',\n",
       "       'BedroomAbvGr', 'KitchenAbvGr', 'KitchenQual', 'TotRmsAbvGrd',\n",
       "       'Functional', 'Fireplaces', 'FireplaceQu', 'GarageType', 'GarageFinish',\n",
       "       'GarageCars', 'GarageArea', 'GarageQual', 'GarageCond', 'PavedDrive',\n",
       "       'WoodDeckSF', 'OpenPorchSF', 'EnclosedPorch', '3SsnPorch',\n",
       "       'ScreenPorch', 'PoolArea', 'PoolQC', 'Fence', 'MiscFeature', 'MiscVal',\n",
       "       'MoSold', 'SaleType', 'SaleCondition', 'Age', 'Re_Age', 'Artery',\n",
       "       'Feedr', 'PosA', 'PosN', 'RRAe', 'RRAn', 'RRNe', 'RRNn'],\n",
       "      dtype='object')"
      ]
     },
     "execution_count": 106,
     "metadata": {},
     "output_type": "execute_result"
    }
   ],
   "source": [
    "X.columns"
   ]
  },
  {
   "cell_type": "code",
   "execution_count": 108,
   "metadata": {},
   "outputs": [
    {
     "data": {
      "text/html": [
       "<div>\n",
       "<style scoped>\n",
       "    .dataframe tbody tr th:only-of-type {\n",
       "        vertical-align: middle;\n",
       "    }\n",
       "\n",
       "    .dataframe tbody tr th {\n",
       "        vertical-align: top;\n",
       "    }\n",
       "\n",
       "    .dataframe thead th {\n",
       "        text-align: right;\n",
       "    }\n",
       "</style>\n",
       "<table border=\"1\" class=\"dataframe\">\n",
       "  <thead>\n",
       "    <tr style=\"text-align: right;\">\n",
       "      <th></th>\n",
       "      <th>TotalBsmtSF</th>\n",
       "      <th>1stFlrSF</th>\n",
       "      <th>GrLivArea</th>\n",
       "    </tr>\n",
       "  </thead>\n",
       "  <tbody>\n",
       "    <tr>\n",
       "      <th>TotalBsmtSF</th>\n",
       "      <td>1.000000</td>\n",
       "      <td>0.803830</td>\n",
       "      <td>0.408793</td>\n",
       "    </tr>\n",
       "    <tr>\n",
       "      <th>1stFlrSF</th>\n",
       "      <td>0.803830</td>\n",
       "      <td>1.000000</td>\n",
       "      <td>0.533697</td>\n",
       "    </tr>\n",
       "    <tr>\n",
       "      <th>GrLivArea</th>\n",
       "      <td>0.408793</td>\n",
       "      <td>0.533697</td>\n",
       "      <td>1.000000</td>\n",
       "    </tr>\n",
       "  </tbody>\n",
       "</table>\n",
       "</div>"
      ],
      "text/plain": [
       "             TotalBsmtSF  1stFlrSF  GrLivArea\n",
       "TotalBsmtSF     1.000000  0.803830   0.408793\n",
       "1stFlrSF        0.803830  1.000000   0.533697\n",
       "GrLivArea       0.408793  0.533697   1.000000"
      ]
     },
     "execution_count": 108,
     "metadata": {},
     "output_type": "execute_result"
    }
   ],
   "source": [
    "X[['TotalBsmtSF','1stFlrSF','GrLivArea']].corr()"
   ]
  },
  {
   "cell_type": "code",
   "execution_count": 52,
   "metadata": {
    "scrolled": true
   },
   "outputs": [
    {
     "data": {
      "text/plain": [
       "MSZoning          object\n",
       "LotFrontage      float64\n",
       "LotArea            int64\n",
       "Street            object\n",
       "Alley             object\n",
       "LotShape          object\n",
       "LandContour       object\n",
       "Utilities         object\n",
       "LotConfig         object\n",
       "LandSlope         object\n",
       "Neighborhood      object\n",
       "BldgType          object\n",
       "HouseStyle        object\n",
       "OverallQual        int64\n",
       "OverallCond        int64\n",
       "RoofStyle         object\n",
       "RoofMatl          object\n",
       "Exterior1st       object\n",
       "Exterior2nd       object\n",
       "MasVnrType        object\n",
       "MasVnrArea       float64\n",
       "ExterQual         object\n",
       "ExterCond         object\n",
       "Foundation        object\n",
       "BsmtQual          object\n",
       "BsmtCond          object\n",
       "BsmtExposure      object\n",
       "BsmtFinType1      object\n",
       "BsmtFinSF1         int64\n",
       "BsmtFinType2      object\n",
       "                  ...   \n",
       "GarageFinish      object\n",
       "GarageCars         int64\n",
       "GarageArea         int64\n",
       "GarageQual        object\n",
       "GarageCond        object\n",
       "PavedDrive        object\n",
       "WoodDeckSF         int64\n",
       "OpenPorchSF        int64\n",
       "EnclosedPorch      int64\n",
       "3SsnPorch          int64\n",
       "ScreenPorch        int64\n",
       "PoolArea           int64\n",
       "PoolQC             int64\n",
       "Fence             object\n",
       "MiscFeature       object\n",
       "MiscVal            int64\n",
       "MoSold            object\n",
       "SaleType          object\n",
       "SaleCondition     object\n",
       "Age                int64\n",
       "Re_Age             int64\n",
       "Artery             int64\n",
       "Feedr              int64\n",
       "PosA               int64\n",
       "PosN               int64\n",
       "RRAe               int64\n",
       "RRAn               int64\n",
       "RRNe               int64\n",
       "RRNn               int64\n",
       "dataset           object\n",
       "Length: 83, dtype: object"
      ]
     },
     "execution_count": 52,
     "metadata": {},
     "output_type": "execute_result"
    }
   ],
   "source": [
    "X.dtypes"
   ]
  },
  {
   "cell_type": "code",
   "execution_count": 53,
   "metadata": {
    "scrolled": true
   },
   "outputs": [
    {
     "data": {
      "text/plain": [
       "0    0.995885\n",
       "1    0.004115\n",
       "Name: PoolQC, dtype: float64"
      ]
     },
     "execution_count": 53,
     "metadata": {},
     "output_type": "execute_result"
    }
   ],
   "source": [
    "X.PoolQC.value_counts()/X.shape[0]"
   ]
  },
  {
   "cell_type": "code",
   "execution_count": 54,
   "metadata": {
    "scrolled": true
   },
   "outputs": [
    {
     "name": "stdout",
     "output_type": "stream",
     "text": [
      "Street \n",
      " Pave    0.995885\n",
      "Grvl    0.004115\n",
      "Name: Street, dtype: float64 \n",
      "\n",
      "Utilities \n",
      " AllPub    0.999314\n",
      "NoSeWa    0.000686\n",
      "Name: Utilities, dtype: float64 \n",
      "\n",
      "RoofMatl \n",
      " CompShg    0.982853\n",
      "Tar&Grv    0.007545\n",
      "WdShngl    0.004115\n",
      "WdShake    0.003429\n",
      "Membran    0.000686\n",
      "Roll       0.000686\n",
      "Metal      0.000686\n",
      "Name: RoofMatl, dtype: float64 \n",
      "\n",
      "Heating \n",
      " GasA     0.978052\n",
      "GasW     0.012346\n",
      "Grav     0.004801\n",
      "Wall     0.002743\n",
      "OthW     0.001372\n",
      "Floor    0.000686\n",
      "Name: Heating, dtype: float64 \n",
      "\n",
      "MiscFeature \n",
      " None    0.962963\n",
      "Shed    0.033608\n",
      "Gar2    0.001372\n",
      "Othr    0.001372\n",
      "TenC    0.000686\n",
      "Name: MiscFeature, dtype: float64 \n",
      "\n",
      "dataset \n",
      " train    1.0\n",
      "Name: dataset, dtype: float64 \n",
      "\n"
     ]
    }
   ],
   "source": [
    "c0 = 0.95\n",
    "for var in X.columns:\n",
    "    if X[var].dtype == object:\n",
    "        if X[var].value_counts()[0]/X.shape[0] > c0:\n",
    "            print(var, '\\n', X[var].value_counts()/X.shape[0], '\\n')\n",
    "# delete Street, Utilities, PoolQC, PoolArea\n",
    "# change RoofMatl to CompShg / Other\n",
    "# check MasVnrType"
   ]
  },
  {
   "cell_type": "code",
   "execution_count": 55,
   "metadata": {
    "scrolled": true
   },
   "outputs": [],
   "source": [
    "def check_catvar_vs_y(data, col,ordered_cat, train = True):\n",
    "    \"\"\"\n",
    "    check value counts of categories in feature specified by col\n",
    "    check average target value by ordered_category\n",
    "    \"\"\"\n",
    "    df = data.copy()\n",
    "    df[col] = df[col].astype('category')\n",
    "    df[col].cat.reorder_categories(ordered_cat,ordered = True, inplace=True)\n",
    "    cnt = df[col].value_counts()\n",
    "    \n",
    "    if train == True:\n",
    "        mu = df.groupby(col).LogSalePrice.agg('mean')\n",
    "        avgy_by_col = pd.DataFrame([cnt,mu]).T.reindex(ordered_cat)\n",
    "        return avgy_by_col\n",
    "    else:\n",
    "        cnt = pd.DataFrame([cnt]).T.reindex(ordered_cat)\n",
    "        return cnt\n",
    "    \n",
    "def check_catvar_vs_convar(data, col1, col2, ordered_cat, train = True):\n",
    "    \"\"\"\n",
    "    check value counts of categories in feature specified by col\n",
    "    check average target value by ordered_category\n",
    "    col1: categorical column; col2: continuous column\n",
    "    \"\"\"\n",
    "    df = data.copy()\n",
    "    df[col1] = df[col1].astype('category')\n",
    "    df[col1].cat.reorder_categories(ordered_cat,ordered = True, inplace=True)\n",
    "    cnt = df[col1].value_counts()\n",
    "    \n",
    "    if train == True:\n",
    "        mu = df.groupby(col1)[col2].agg('mean')\n",
    "        avg_by_col1 = pd.DataFrame([cnt,mu]).T.reindex(ordered_cat)\n",
    "        return avg_by_col1\n",
    "    else:\n",
    "        cnt = pd.DataFrame([cnt]).T.reindex(ordered_cat)\n",
    "        return cnt\n",
    "    \n",
    "def cramers_v(x, y):\n",
    "    confusion_matrix = pd.crosstab(x,y)\n",
    "    print(pd.crosstab(x,y))\n",
    "    chi2 = ss.chi2_contingency(confusion_matrix)[0]\n",
    "    n = confusion_matrix.sum().sum()\n",
    "    phi2 = chi2/n\n",
    "    r,k = confusion_matrix.shape\n",
    "    phi2corr = max(0, phi2-((k-1)*(r-1))/(n-1))\n",
    "    rcorr = r-((r-1)**2)/(n-1)\n",
    "    kcorr = k-((k-1)**2)/(n-1)\n",
    "    return np.sqrt(phi2corr/min((kcorr-1),(rcorr-1)))"
   ]
  },
  {
   "cell_type": "code",
   "execution_count": 56,
   "metadata": {},
   "outputs": [
    {
     "name": "stdout",
     "output_type": "stream",
     "text": [
      "         Heating  LogSalePrice\n",
      "Heating                       \n",
      "GasA      1426.0     12.032046\n",
      "GasW        18.0     11.930687\n",
      "Grav         7.0     11.165886\n",
      "Wall         4.0     11.429740\n",
      "OthW         2.0     11.741606\n",
      "Floor        1.0     11.191342 \n",
      "\n",
      "    HeatingQC  LogSalePrice\n",
      "Ex      739.0     12.208040\n",
      "Fa       49.0     11.637034\n",
      "Gd      241.0     11.910371\n",
      "Po        1.0     11.373663\n",
      "TA      428.0     11.816065\n"
     ]
    },
    {
     "data": {
      "text/html": [
       "<div>\n",
       "<style scoped>\n",
       "    .dataframe tbody tr th:only-of-type {\n",
       "        vertical-align: middle;\n",
       "    }\n",
       "\n",
       "    .dataframe tbody tr th {\n",
       "        vertical-align: top;\n",
       "    }\n",
       "\n",
       "    .dataframe thead th {\n",
       "        text-align: right;\n",
       "    }\n",
       "</style>\n",
       "<table border=\"1\" class=\"dataframe\">\n",
       "  <thead>\n",
       "    <tr style=\"text-align: right;\">\n",
       "      <th>HeatingQC</th>\n",
       "      <th>Ex</th>\n",
       "      <th>Fa</th>\n",
       "      <th>Gd</th>\n",
       "      <th>Po</th>\n",
       "      <th>TA</th>\n",
       "    </tr>\n",
       "    <tr>\n",
       "      <th>Heating</th>\n",
       "      <th></th>\n",
       "      <th></th>\n",
       "      <th></th>\n",
       "      <th></th>\n",
       "      <th></th>\n",
       "    </tr>\n",
       "  </thead>\n",
       "  <tbody>\n",
       "    <tr>\n",
       "      <th>Floor</th>\n",
       "      <td>0</td>\n",
       "      <td>0</td>\n",
       "      <td>0</td>\n",
       "      <td>0</td>\n",
       "      <td>1</td>\n",
       "    </tr>\n",
       "    <tr>\n",
       "      <th>GasA</th>\n",
       "      <td>737</td>\n",
       "      <td>34</td>\n",
       "      <td>239</td>\n",
       "      <td>1</td>\n",
       "      <td>415</td>\n",
       "    </tr>\n",
       "    <tr>\n",
       "      <th>GasW</th>\n",
       "      <td>2</td>\n",
       "      <td>3</td>\n",
       "      <td>2</td>\n",
       "      <td>0</td>\n",
       "      <td>11</td>\n",
       "    </tr>\n",
       "    <tr>\n",
       "      <th>Grav</th>\n",
       "      <td>0</td>\n",
       "      <td>7</td>\n",
       "      <td>0</td>\n",
       "      <td>0</td>\n",
       "      <td>0</td>\n",
       "    </tr>\n",
       "    <tr>\n",
       "      <th>OthW</th>\n",
       "      <td>0</td>\n",
       "      <td>2</td>\n",
       "      <td>0</td>\n",
       "      <td>0</td>\n",
       "      <td>0</td>\n",
       "    </tr>\n",
       "    <tr>\n",
       "      <th>Wall</th>\n",
       "      <td>0</td>\n",
       "      <td>3</td>\n",
       "      <td>0</td>\n",
       "      <td>0</td>\n",
       "      <td>1</td>\n",
       "    </tr>\n",
       "  </tbody>\n",
       "</table>\n",
       "</div>"
      ],
      "text/plain": [
       "HeatingQC   Ex  Fa   Gd  Po   TA\n",
       "Heating                         \n",
       "Floor        0   0    0   0    1\n",
       "GasA       737  34  239   1  415\n",
       "GasW         2   3    2   0   11\n",
       "Grav         0   7    0   0    0\n",
       "OthW         0   2    0   0    0\n",
       "Wall         0   3    0   0    1"
      ]
     },
     "execution_count": 56,
     "metadata": {},
     "output_type": "execute_result"
    }
   ],
   "source": [
    "print(check_catvar_vs_y(xy, 'Heating', ['GasA','GasW','Grav','Wall','OthW','Floor']), '\\n')\n",
    "print(check_catvar_vs_y(xy, 'HeatingQC', ['Ex','Fa','Gd','Po','TA']))  \n",
    "# HeatingQC correlates with price much better than Heating\n",
    "#print(check_catvar_vs_y(xyt, 'Heating', ['GasA','GasW','Grav','Wall','OthW','Floor']), False)\n",
    "pd.crosstab(xy['Heating'], xy['HeatingQC'])"
   ]
  },
  {
   "cell_type": "code",
   "execution_count": 77,
   "metadata": {},
   "outputs": [
    {
     "name": "stdout",
     "output_type": "stream",
     "text": [
      "6     253\n",
      "7     234\n",
      "5     204\n",
      "4     141\n",
      "8     122\n",
      "3     106\n",
      "10     88\n",
      "11     79\n",
      "9      63\n",
      "12     59\n",
      "1      57\n",
      "2      52\n",
      "Name: MoSold, dtype: int64\n",
      "Summer    609\n",
      "Spring    451\n",
      "Fall      230\n",
      "Winter    168\n",
      "Name: SeasonSold, dtype: int64\n"
     ]
    },
    {
     "data": {
      "text/plain": [
       "<matplotlib.axes._subplots.AxesSubplot at 0x238d7f25b70>"
      ]
     },
     "execution_count": 77,
     "metadata": {},
     "output_type": "execute_result"
    },
    {
     "data": {
      "image/png": "[encoded data removed]",
      "text/plain": [
       "<Figure size 576x720 with 1 Axes>"
      ]
     },
     "metadata": {},
     "output_type": "display_data"
    }
   ],
   "source": [
    "# MoSold\n",
    "plt.figure(figsize=(8, 10))\n",
    "print(X['MoSold'].value_counts())\n",
    "X['SeasonSold'] = 'None'\n",
    "\n",
    "#sns.scatterplot(y=y, x=X['MoSold'])\n",
    "X.loc[X['MoSold'].isin(['1', '2', '12']), 'SeasonSold' ] = 'Winter' \n",
    "X.loc[X['MoSold'].isin(['3', '4', '5']), 'SeasonSold' ] ='Spring'\n",
    "X.loc[X['MoSold'].isin(['6', '7', '8']), 'SeasonSold' ] = 'Summer'\n",
    "X.loc[X['MoSold'].isin(['9', '10', '11']), 'SeasonSold' ] = 'Fall'\n",
    "print(X['SeasonSold'].value_counts())\n",
    "sns.boxplot(y=y, x=X['SeasonSold'])\n",
    "# not clear if season would be a meaningful predictor"
   ]
  },
  {
   "cell_type": "code",
   "execution_count": 57,
   "metadata": {
    "scrolled": true
   },
   "outputs": [
    {
     "name": "stdout",
     "output_type": "stream",
     "text": [
      "         MSZoning  LogSalePrice\n",
      "RL         1149.0     12.085939\n",
      "RM          218.0     11.692893\n",
      "RH           16.0     11.749840\n",
      "FV           65.0     12.246616\n",
      "C (all)      10.0     11.118259 \n",
      "\n",
      "         MSZoning\n",
      "RL           1115\n",
      "RM            245\n",
      "RH             10\n",
      "FV             74\n",
      "C (all)        15\n"
     ]
    }
   ],
   "source": [
    "print(check_catvar_vs_y(xy, 'MSZoning', ['RL','RM','RH','FV','C (all)']), '\\n')\n",
    "print(check_catvar_vs_y(xyt, 'MSZoning', ['RL','RM','RH','FV','C (all)'], False))\n",
    "# process: combine 'RM','RH' to 'RMH'"
   ]
  },
  {
   "cell_type": "code",
   "execution_count": 58,
   "metadata": {
    "scrolled": true
   },
   "outputs": [
    {
     "name": "stdout",
     "output_type": "stream",
     "text": [
      "       SaleType  LogSalePrice\n",
      "WD       1267.0     11.991061\n",
      "New       120.0     12.466114\n",
      "COD        43.0     11.827437\n",
      "ConLD       9.0     11.773000\n",
      "ConLw       5.0     11.769706\n",
      "ConLI       5.0     12.044878\n",
      "CWD         4.0     12.198344\n",
      "Oth         3.0     11.675295\n",
      "Con         2.0     12.483911 \n",
      "\n",
      "       SaleType\n",
      "WD         1259\n",
      "New         117\n",
      "COD          44\n",
      "ConLD        17\n",
      "ConLw         3\n",
      "ConLI         4\n",
      "CWD           8\n",
      "Oth           4\n",
      "Con           3\n"
     ]
    }
   ],
   "source": [
    "print(check_catvar_vs_y(xy, 'SaleType', ['WD','New','COD','ConLD','ConLw','ConLI','CWD','Oth','Con']), '\\n')\n",
    "print(check_catvar_vs_y(xyt, 'SaleType', ['WD','New','COD','ConLD','ConLw','ConLI','CWD','Oth','Con'], False))\n",
    "# new categories: 'WD', 'New', 'Oth'\n",
    "# decided to drop"
   ]
  },
  {
   "cell_type": "code",
   "execution_count": 60,
   "metadata": {
    "scrolled": true
   },
   "outputs": [
    {
     "name": "stdout",
     "output_type": "stream",
     "text": [
      "   GarageCars  GarageArea\n",
      "0        81.0    0.000000\n",
      "1       369.0  300.517615\n",
      "2       823.0  518.705954\n",
      "3       180.0  811.172222\n",
      "4         5.0  890.400000 \n",
      "\n",
      "   GarageCars  LogSalePrice\n",
      "0        81.0     11.491874\n",
      "1       369.0     11.731868\n",
      "2       823.0     12.083736\n",
      "3       180.0     12.586128\n",
      "4         5.0     12.137198 \n",
      "\n",
      "   GarageCars\n",
      "0          77\n",
      "1         407\n",
      "2         770\n",
      "3         193\n",
      "4          11\n",
      "5           1\n"
     ]
    }
   ],
   "source": [
    "print(check_catvar_vs_convar(xy, 'GarageCars', 'GarageArea', [0,1,2,3,4]), '\\n')\n",
    "print(check_catvar_vs_y(xy, 'GarageCars', [0,1,2,3,4]), '\\n')\n",
    "print(check_catvar_vs_convar(xyt, 'GarageCars', 'GarageArea', [0,1,2,3,4,5],False))\n",
    "# convert to categorical, new categories for 'GarageCars': 0,1,2,3+"
   ]
  },
  {
   "cell_type": "code",
   "execution_count": 61,
   "metadata": {
    "scrolled": true
   },
   "outputs": [
    {
     "name": "stdout",
     "output_type": "stream",
     "text": [
      "            GarageType  LogSalePrice\n",
      "GarageType                          \n",
      "Attchd           869.0     12.160982\n",
      "Detchd           387.0     11.765643\n",
      "BuiltIn           87.0     12.377771\n",
      "None              81.0     11.491874\n",
      "Basment           19.0     11.916440\n",
      "CarPort            9.0     11.587994\n",
      "2Types             6.0     11.899157 \n",
      "\n",
      "         GarageType\n",
      "Attchd          853\n",
      "Detchd          392\n",
      "BuiltIn          98\n",
      "None             76\n",
      "Basment          17\n",
      "CarPort           6\n",
      "2Types           17\n"
     ]
    }
   ],
   "source": [
    "#print(pd.DataFrame(xy['GarageType'].value_counts()).T)\n",
    "# print(pd.DataFrame(xyt['GarageType'].value_counts()).T)\n",
    "print(check_catvar_vs_y(xy, 'GarageType', ['Attchd' , 'Detchd',  'BuiltIn',  'None',  'Basment',  'CarPort',  '2Types']), '\\n')\n",
    "print(check_catvar_vs_y(xyt, 'GarageType', ['Attchd' , 'Detchd',  'BuiltIn',  'None',  'Basment',  'CarPort',  '2Types'], False) )\n",
    "# new categories: 'Attchd_BuiltIn', 'Other'"
   ]
  },
  {
   "cell_type": "code",
   "execution_count": 59,
   "metadata": {
    "scrolled": true
   },
   "outputs": [
    {
     "name": "stdout",
     "output_type": "stream",
     "text": [
      "      GarageCond  LogSalePrice\n",
      "Ex           2.0     11.727638\n",
      "Gd           9.0     12.050615\n",
      "TA        1324.0     12.070507\n",
      "Fa          35.0     11.596881\n",
      "Po           7.0     11.572878\n",
      "None        81.0     11.491874 \n",
      "\n",
      "      GarageCond\n",
      "Ex             1\n",
      "Gd             6\n",
      "TA          1328\n",
      "Fa            39\n",
      "Po             7\n",
      "None          78\n"
     ]
    }
   ],
   "source": [
    "print(check_catvar_vs_y(xy, 'GarageCond',['Ex', 'Gd', 'TA', 'Fa', 'Po', 'None']), '\\n')\n",
    "print(check_catvar_vs_y(xyt, 'GarageCond',['Ex', 'Gd', 'TA', 'Fa', 'Po', 'None'], False))\n",
    "# drop "
   ]
  },
  {
   "cell_type": "code",
   "execution_count": 81,
   "metadata": {
    "scrolled": true
   },
   "outputs": [
    {
     "name": "stdout",
     "output_type": "stream",
     "text": [
      "      GarageQual  LogSalePrice\n",
      "None        81.0     11.491874\n",
      "Po           3.0     11.472494\n",
      "Fa          48.0     11.674845\n",
      "TA        1309.0     12.068560\n",
      "Gd          14.0     12.220068\n",
      "Ex           3.0     12.175449 \n",
      "\n",
      "      GarageQual\n",
      "None          78\n",
      "Po             2\n",
      "Fa            76\n",
      "TA          1293\n",
      "Gd            10 \n",
      "\n"
     ]
    }
   ],
   "source": [
    "# print(pd.DataFrame(xy['GarageQual'].value_counts()).T)\n",
    "# print(pd.DataFrame(xyt['GarageQual'].value_counts()).T)\n",
    "print(check_catvar_vs_y(xy, 'GarageQual', ['None','Po', 'Fa', 'TA' , 'Gd','Ex']), '\\n')\n",
    "print(check_catvar_vs_y(xyt, 'GarageQual', ['None','Po', 'Fa', 'TA' , 'Gd'],False), '\\n')\n",
    "# combine: new categories: 'None', 'Po_Fa', 'TA', 'Gd_Ex'"
   ]
  },
  {
   "cell_type": "code",
   "execution_count": 80,
   "metadata": {},
   "outputs": [
    {
     "name": "stdout",
     "output_type": "stream",
     "text": [
      "              TA  None  Fa  Gd  Po  Ex\n",
      "GarageCond  1324    81  35   9   7   2\n",
      "              TA  None  Fa  Po  Gd  Ex\n",
      "GarageCond  1328    78  39   7   6   1\n",
      "      GarageCond  LogSalePrice\n",
      "None        81.0     11.491874\n",
      "Po           7.0     11.572878\n",
      "Fa          35.0     11.596881\n",
      "TA        1324.0     12.070507\n",
      "Gd           9.0     12.050615\n",
      "Ex           2.0     11.727638 \n",
      "\n",
      "      GarageCond\n",
      "None          78\n",
      "Po             7\n",
      "Fa            39\n",
      "TA          1328\n",
      "Gd             6\n",
      "Ex             1 \n",
      "\n"
     ]
    }
   ],
   "source": [
    "print(pd.DataFrame(xy['GarageCond'].value_counts()).T)\n",
    "print(pd.DataFrame(xyt['GarageCond'].value_counts()).T)\n",
    "print(check_catvar_vs_y(xy, 'GarageCond', ['None','Po', 'Fa', 'TA' , 'Gd','Ex']), '\\n')\n",
    "print(check_catvar_vs_y(xyt, 'GarageCond', ['None','Po', 'Fa', 'TA' , 'Gd', 'Ex'],False), '\\n')\n",
    "# drop: highly correlated with GarageQual, similar FI ranking in tree models, GarageQual vs. y better ordinality"
   ]
  },
  {
   "cell_type": "code",
   "execution_count": 78,
   "metadata": {},
   "outputs": [
    {
     "data": {
      "text/html": [
       "<div>\n",
       "<style scoped>\n",
       "    .dataframe tbody tr th:only-of-type {\n",
       "        vertical-align: middle;\n",
       "    }\n",
       "\n",
       "    .dataframe tbody tr th {\n",
       "        vertical-align: top;\n",
       "    }\n",
       "\n",
       "    .dataframe thead th {\n",
       "        text-align: right;\n",
       "    }\n",
       "</style>\n",
       "<table border=\"1\" class=\"dataframe\">\n",
       "  <thead>\n",
       "    <tr style=\"text-align: right;\">\n",
       "      <th>GarageCond</th>\n",
       "      <th>Ex</th>\n",
       "      <th>Fa</th>\n",
       "      <th>Gd</th>\n",
       "      <th>None</th>\n",
       "      <th>Po</th>\n",
       "      <th>TA</th>\n",
       "    </tr>\n",
       "    <tr>\n",
       "      <th>GarageQual</th>\n",
       "      <th></th>\n",
       "      <th></th>\n",
       "      <th></th>\n",
       "      <th></th>\n",
       "      <th></th>\n",
       "      <th></th>\n",
       "    </tr>\n",
       "  </thead>\n",
       "  <tbody>\n",
       "    <tr>\n",
       "      <th>Ex</th>\n",
       "      <td>2</td>\n",
       "      <td>0</td>\n",
       "      <td>0</td>\n",
       "      <td>0</td>\n",
       "      <td>0</td>\n",
       "      <td>1</td>\n",
       "    </tr>\n",
       "    <tr>\n",
       "      <th>Fa</th>\n",
       "      <td>0</td>\n",
       "      <td>20</td>\n",
       "      <td>0</td>\n",
       "      <td>0</td>\n",
       "      <td>4</td>\n",
       "      <td>24</td>\n",
       "    </tr>\n",
       "    <tr>\n",
       "      <th>Gd</th>\n",
       "      <td>0</td>\n",
       "      <td>0</td>\n",
       "      <td>4</td>\n",
       "      <td>0</td>\n",
       "      <td>0</td>\n",
       "      <td>10</td>\n",
       "    </tr>\n",
       "    <tr>\n",
       "      <th>None</th>\n",
       "      <td>0</td>\n",
       "      <td>0</td>\n",
       "      <td>0</td>\n",
       "      <td>81</td>\n",
       "      <td>0</td>\n",
       "      <td>0</td>\n",
       "    </tr>\n",
       "    <tr>\n",
       "      <th>Po</th>\n",
       "      <td>0</td>\n",
       "      <td>0</td>\n",
       "      <td>0</td>\n",
       "      <td>0</td>\n",
       "      <td>3</td>\n",
       "      <td>0</td>\n",
       "    </tr>\n",
       "    <tr>\n",
       "      <th>TA</th>\n",
       "      <td>0</td>\n",
       "      <td>15</td>\n",
       "      <td>5</td>\n",
       "      <td>0</td>\n",
       "      <td>0</td>\n",
       "      <td>1289</td>\n",
       "    </tr>\n",
       "  </tbody>\n",
       "</table>\n",
       "</div>"
      ],
      "text/plain": [
       "GarageCond  Ex  Fa  Gd  None  Po    TA\n",
       "GarageQual                            \n",
       "Ex           2   0   0     0   0     1\n",
       "Fa           0  20   0     0   4    24\n",
       "Gd           0   0   4     0   0    10\n",
       "None         0   0   0    81   0     0\n",
       "Po           0   0   0     0   3     0\n",
       "TA           0  15   5     0   0  1289"
      ]
     },
     "execution_count": 78,
     "metadata": {},
     "output_type": "execute_result"
    }
   ],
   "source": [
    "pd.crosstab(xy['GarageQual'],xy['GarageCond'])"
   ]
  },
  {
   "cell_type": "code",
   "execution_count": 83,
   "metadata": {
    "scrolled": true
   },
   "outputs": [
    {
     "name": "stdout",
     "output_type": "stream",
     "text": [
      "      GarageFinish  LogSalePrice\n",
      "None          81.0     11.491874\n",
      "Unf          605.0     11.818974\n",
      "RFn          422.0     12.172672\n",
      "Fin          350.0     12.322330 \n",
      "\n",
      "      GarageFinish\n",
      "None            78\n",
      "Unf            625\n",
      "RFn            389\n",
      "Fin            367 \n",
      "\n"
     ]
    }
   ],
   "source": [
    "#print(pd.DataFrame(xy['GarageFinish'].value_counts()).T)\n",
    "#print(pd.DataFrame(xyt['GarageFinish'].value_counts()).T)\n",
    "print(check_catvar_vs_y(xy, 'GarageFinish', ['None','Unf' , 'RFn', 'Fin']), '\\n')\n",
    "print(check_catvar_vs_y(xyt, 'GarageFinish', ['None','Unf' , 'RFn', 'Fin'],False), '\\n')\n",
    "# do nothing"
   ]
  },
  {
   "cell_type": "code",
   "execution_count": 84,
   "metadata": {},
   "outputs": [
    {
     "data": {
      "text/html": [
       "<div>\n",
       "<style scoped>\n",
       "    .dataframe tbody tr th:only-of-type {\n",
       "        vertical-align: middle;\n",
       "    }\n",
       "\n",
       "    .dataframe tbody tr th {\n",
       "        vertical-align: top;\n",
       "    }\n",
       "\n",
       "    .dataframe thead th {\n",
       "        text-align: right;\n",
       "    }\n",
       "</style>\n",
       "<table border=\"1\" class=\"dataframe\">\n",
       "  <thead>\n",
       "    <tr style=\"text-align: right;\">\n",
       "      <th>GarageFinish</th>\n",
       "      <th>Fin</th>\n",
       "      <th>None</th>\n",
       "      <th>RFn</th>\n",
       "      <th>Unf</th>\n",
       "    </tr>\n",
       "    <tr>\n",
       "      <th>GarageQual</th>\n",
       "      <th></th>\n",
       "      <th></th>\n",
       "      <th></th>\n",
       "      <th></th>\n",
       "    </tr>\n",
       "  </thead>\n",
       "  <tbody>\n",
       "    <tr>\n",
       "      <th>Ex</th>\n",
       "      <td>1</td>\n",
       "      <td>0</td>\n",
       "      <td>0</td>\n",
       "      <td>2</td>\n",
       "    </tr>\n",
       "    <tr>\n",
       "      <th>Fa</th>\n",
       "      <td>1</td>\n",
       "      <td>0</td>\n",
       "      <td>0</td>\n",
       "      <td>47</td>\n",
       "    </tr>\n",
       "    <tr>\n",
       "      <th>Gd</th>\n",
       "      <td>2</td>\n",
       "      <td>0</td>\n",
       "      <td>7</td>\n",
       "      <td>5</td>\n",
       "    </tr>\n",
       "    <tr>\n",
       "      <th>None</th>\n",
       "      <td>0</td>\n",
       "      <td>81</td>\n",
       "      <td>0</td>\n",
       "      <td>0</td>\n",
       "    </tr>\n",
       "    <tr>\n",
       "      <th>Po</th>\n",
       "      <td>0</td>\n",
       "      <td>0</td>\n",
       "      <td>0</td>\n",
       "      <td>3</td>\n",
       "    </tr>\n",
       "    <tr>\n",
       "      <th>TA</th>\n",
       "      <td>346</td>\n",
       "      <td>0</td>\n",
       "      <td>415</td>\n",
       "      <td>548</td>\n",
       "    </tr>\n",
       "  </tbody>\n",
       "</table>\n",
       "</div>"
      ],
      "text/plain": [
       "GarageFinish  Fin  None  RFn  Unf\n",
       "GarageQual                       \n",
       "Ex              1     0    0    2\n",
       "Fa              1     0    0   47\n",
       "Gd              2     0    7    5\n",
       "None            0    81    0    0\n",
       "Po              0     0    0    3\n",
       "TA            346     0  415  548"
      ]
     },
     "execution_count": 84,
     "metadata": {},
     "output_type": "execute_result"
    }
   ],
   "source": [
    "pd.crosstab(xy['GarageQual'],xy['GarageFinish'])"
   ]
  },
  {
   "cell_type": "code",
   "execution_count": 68,
   "metadata": {
    "scrolled": true
   },
   "outputs": [
    {
     "name": "stdout",
     "output_type": "stream",
     "text": [
      "New      120\n",
      "WD         2\n",
      "ConLD      1\n",
      "Name: SaleType, dtype: int64\n",
      "SaleType       COD  CWD  Con  ConLD  ConLI  ConLw  New  Oth    WD\n",
      "SaleCondition                                                    \n",
      "Abnorml         24    1    0      2      1      0    0    3    70\n",
      "AdjLand          0    0    0      0      0      0    0    0     4\n",
      "Alloca           0    0    0      0      0      0    0    0    12\n",
      "Family           0    1    0      0      0      0    0    0    19\n",
      "Normal          19    2    2      6      4      5    0    0  1160\n",
      "Partial          0    0    0      1      0      0  120    0     2\n",
      "0.47073183765888016\n"
     ]
    },
    {
     "data": {
      "text/html": [
       "<div>\n",
       "<style scoped>\n",
       "    .dataframe tbody tr th:only-of-type {\n",
       "        vertical-align: middle;\n",
       "    }\n",
       "\n",
       "    .dataframe tbody tr th {\n",
       "        vertical-align: top;\n",
       "    }\n",
       "\n",
       "    .dataframe thead th {\n",
       "        text-align: right;\n",
       "    }\n",
       "</style>\n",
       "<table border=\"1\" class=\"dataframe\">\n",
       "  <thead>\n",
       "    <tr style=\"text-align: right;\">\n",
       "      <th>SaleType</th>\n",
       "      <th>COD</th>\n",
       "      <th>CWD</th>\n",
       "      <th>Con</th>\n",
       "      <th>ConLD</th>\n",
       "      <th>ConLI</th>\n",
       "      <th>ConLw</th>\n",
       "      <th>New</th>\n",
       "      <th>Oth</th>\n",
       "      <th>WD</th>\n",
       "    </tr>\n",
       "    <tr>\n",
       "      <th>SaleCondition</th>\n",
       "      <th></th>\n",
       "      <th></th>\n",
       "      <th></th>\n",
       "      <th></th>\n",
       "      <th></th>\n",
       "      <th></th>\n",
       "      <th></th>\n",
       "      <th></th>\n",
       "      <th></th>\n",
       "    </tr>\n",
       "  </thead>\n",
       "  <tbody>\n",
       "    <tr>\n",
       "      <th>Abnorml</th>\n",
       "      <td>24</td>\n",
       "      <td>1</td>\n",
       "      <td>0</td>\n",
       "      <td>2</td>\n",
       "      <td>1</td>\n",
       "      <td>0</td>\n",
       "      <td>0</td>\n",
       "      <td>3</td>\n",
       "      <td>70</td>\n",
       "    </tr>\n",
       "    <tr>\n",
       "      <th>AdjLand</th>\n",
       "      <td>0</td>\n",
       "      <td>0</td>\n",
       "      <td>0</td>\n",
       "      <td>0</td>\n",
       "      <td>0</td>\n",
       "      <td>0</td>\n",
       "      <td>0</td>\n",
       "      <td>0</td>\n",
       "      <td>4</td>\n",
       "    </tr>\n",
       "    <tr>\n",
       "      <th>Alloca</th>\n",
       "      <td>0</td>\n",
       "      <td>0</td>\n",
       "      <td>0</td>\n",
       "      <td>0</td>\n",
       "      <td>0</td>\n",
       "      <td>0</td>\n",
       "      <td>0</td>\n",
       "      <td>0</td>\n",
       "      <td>12</td>\n",
       "    </tr>\n",
       "    <tr>\n",
       "      <th>Family</th>\n",
       "      <td>0</td>\n",
       "      <td>1</td>\n",
       "      <td>0</td>\n",
       "      <td>0</td>\n",
       "      <td>0</td>\n",
       "      <td>0</td>\n",
       "      <td>0</td>\n",
       "      <td>0</td>\n",
       "      <td>19</td>\n",
       "    </tr>\n",
       "    <tr>\n",
       "      <th>Normal</th>\n",
       "      <td>19</td>\n",
       "      <td>2</td>\n",
       "      <td>2</td>\n",
       "      <td>6</td>\n",
       "      <td>4</td>\n",
       "      <td>5</td>\n",
       "      <td>0</td>\n",
       "      <td>0</td>\n",
       "      <td>1160</td>\n",
       "    </tr>\n",
       "    <tr>\n",
       "      <th>Partial</th>\n",
       "      <td>0</td>\n",
       "      <td>0</td>\n",
       "      <td>0</td>\n",
       "      <td>1</td>\n",
       "      <td>0</td>\n",
       "      <td>0</td>\n",
       "      <td>120</td>\n",
       "      <td>0</td>\n",
       "      <td>2</td>\n",
       "    </tr>\n",
       "  </tbody>\n",
       "</table>\n",
       "</div>"
      ],
      "text/plain": [
       "SaleType       COD  CWD  Con  ConLD  ConLI  ConLw  New  Oth    WD\n",
       "SaleCondition                                                    \n",
       "Abnorml         24    1    0      2      1      0    0    3    70\n",
       "AdjLand          0    0    0      0      0      0    0    0     4\n",
       "Alloca           0    0    0      0      0      0    0    0    12\n",
       "Family           0    1    0      0      0      0    0    0    19\n",
       "Normal          19    2    2      6      4      5    0    0  1160\n",
       "Partial          0    0    0      1      0      0  120    0     2"
      ]
     },
     "execution_count": 68,
     "metadata": {},
     "output_type": "execute_result"
    }
   ],
   "source": [
    "#print(pd.DataFrame(xy['SaleCondition'].value_counts()).T)\n",
    "#print(pd.DataFrame(xyt['SaleCondition'].value_counts()).T)\n",
    "# print(check_catvar_vs_y(xy, 'SaleCondition', ['Normal',  'Partial',  'Abnorml',  'Family',  'Alloca',  'AdjLand']), '\\n')\n",
    "print(xy[ xy['SaleCondition'] == \"Partial\" ].SaleType.value_counts()) # New construction almost completely captured by SaleType\n",
    "print(cramers_v(xy['SaleCondition'], xy['SaleType']))\n",
    "pd.crosstab(xy['SaleCondition'], xy['SaleType'])"
   ]
  },
  {
   "cell_type": "code",
   "execution_count": 41,
   "metadata": {
    "scrolled": true
   },
   "outputs": [
    {
     "name": "stdout",
     "output_type": "stream",
     "text": [
      "              BsmtFinType1  LogSalePrice\n",
      "BsmtFinType1                            \n",
      "Unf                  430.0     11.963998\n",
      "GLQ                  416.0     12.303125\n",
      "ALQ                  220.0     11.953313\n",
      "BLQ                  148.0     11.867634\n",
      "Rec                  133.0     11.852846\n",
      "LwQ                   74.0     11.881354\n",
      "None                  37.0     11.529680 \n",
      "\n"
     ]
    }
   ],
   "source": [
    "#pd.DataFrame(xy['BsmtFinType1'].value_counts()).T\n",
    "print(check_catvar_vs_y(xy, 'BsmtFinType1', ['Unf','GLQ','ALQ','BLQ','Rec','LwQ','None']), '\\n')"
   ]
  },
  {
   "cell_type": "code",
   "execution_count": 87,
   "metadata": {},
   "outputs": [
    {
     "name": "stdout",
     "output_type": "stream",
     "text": [
      "      BsmtQual  LogSalePrice\n",
      "None      37.0     11.529680\n",
      "Fa        35.0     11.617600\n",
      "TA       649.0     11.810855\n",
      "Gd       618.0     12.179882\n",
      "Ex       119.0     12.650235 \n",
      "\n",
      "      BsmtQual\n",
      "None        44\n",
      "Fa          53\n",
      "TA         634\n",
      "Gd         591\n",
      "Ex         137 \n",
      "\n"
     ]
    }
   ],
   "source": [
    "# based on height of basement\n",
    "#print(pd.DataFrame(xy['BsmtQual'].value_counts()).T)\n",
    "#print(pd.DataFrame(xyt['BsmtQual'].value_counts()).T)\n",
    "print(check_catvar_vs_y(xy, 'BsmtQual', ['None','Fa', 'TA' , 'Gd','Ex']), '\\n')\n",
    "print(check_catvar_vs_y(xyt, 'BsmtQual', ['None','Fa', 'TA' , 'Gd', 'Ex'],False), '\\n')"
   ]
  },
  {
   "cell_type": "code",
   "execution_count": 92,
   "metadata": {},
   "outputs": [
    {
     "name": "stdout",
     "output_type": "stream",
     "text": [
      "      BsmtCond  LogSalePrice\n",
      "None      37.0     11.529680\n",
      "Po         2.0     11.065539\n",
      "Fa        45.0     11.648864\n",
      "TA      1309.0     12.042596\n",
      "Gd        65.0     12.220279 \n",
      "\n",
      "      BsmtCond\n",
      "None        45\n",
      "Po           3\n",
      "Fa          59\n",
      "TA        1295\n",
      "Gd          57 \n",
      "\n"
     ]
    }
   ],
   "source": [
    "#print(pd.DataFrame(xy['BsmtCond'].value_counts()).T)\n",
    "#print(pd.DataFrame(xyt['BsmtCond'].value_counts()).T)\n",
    "print(check_catvar_vs_y(xy, 'BsmtCond', ['None','Po','Fa', 'TA' , 'Gd']), '\\n')\n",
    "print(check_catvar_vs_y(xyt, 'BsmtCond', ['None','Po','Fa', 'TA' , 'Gd'],False), '\\n')\n"
   ]
  },
  {
   "cell_type": "code",
   "execution_count": 93,
   "metadata": {},
   "outputs": [
    {
     "data": {
      "text/html": [
       "<div>\n",
       "<style scoped>\n",
       "    .dataframe tbody tr th:only-of-type {\n",
       "        vertical-align: middle;\n",
       "    }\n",
       "\n",
       "    .dataframe tbody tr th {\n",
       "        vertical-align: top;\n",
       "    }\n",
       "\n",
       "    .dataframe thead th {\n",
       "        text-align: right;\n",
       "    }\n",
       "</style>\n",
       "<table border=\"1\" class=\"dataframe\">\n",
       "  <thead>\n",
       "    <tr style=\"text-align: right;\">\n",
       "      <th>BsmtQual</th>\n",
       "      <th>Ex</th>\n",
       "      <th>Fa</th>\n",
       "      <th>Gd</th>\n",
       "      <th>None</th>\n",
       "      <th>TA</th>\n",
       "    </tr>\n",
       "    <tr>\n",
       "      <th>BsmtCond</th>\n",
       "      <th></th>\n",
       "      <th></th>\n",
       "      <th></th>\n",
       "      <th></th>\n",
       "      <th></th>\n",
       "    </tr>\n",
       "  </thead>\n",
       "  <tbody>\n",
       "    <tr>\n",
       "      <th>Fa</th>\n",
       "      <td>0</td>\n",
       "      <td>8</td>\n",
       "      <td>2</td>\n",
       "      <td>0</td>\n",
       "      <td>35</td>\n",
       "    </tr>\n",
       "    <tr>\n",
       "      <th>Gd</th>\n",
       "      <td>11</td>\n",
       "      <td>0</td>\n",
       "      <td>36</td>\n",
       "      <td>0</td>\n",
       "      <td>18</td>\n",
       "    </tr>\n",
       "    <tr>\n",
       "      <th>None</th>\n",
       "      <td>0</td>\n",
       "      <td>0</td>\n",
       "      <td>0</td>\n",
       "      <td>37</td>\n",
       "      <td>0</td>\n",
       "    </tr>\n",
       "    <tr>\n",
       "      <th>Po</th>\n",
       "      <td>0</td>\n",
       "      <td>2</td>\n",
       "      <td>0</td>\n",
       "      <td>0</td>\n",
       "      <td>0</td>\n",
       "    </tr>\n",
       "    <tr>\n",
       "      <th>TA</th>\n",
       "      <td>108</td>\n",
       "      <td>25</td>\n",
       "      <td>580</td>\n",
       "      <td>0</td>\n",
       "      <td>596</td>\n",
       "    </tr>\n",
       "  </tbody>\n",
       "</table>\n",
       "</div>"
      ],
      "text/plain": [
       "BsmtQual   Ex  Fa   Gd  None   TA\n",
       "BsmtCond                         \n",
       "Fa          0   8    2     0   35\n",
       "Gd         11   0   36     0   18\n",
       "None        0   0    0    37    0\n",
       "Po          0   2    0     0    0\n",
       "TA        108  25  580     0  596"
      ]
     },
     "execution_count": 93,
     "metadata": {},
     "output_type": "execute_result"
    }
   ],
   "source": [
    "pd.crosstab(xy['BsmtCond'],xy['BsmtQual'])"
   ]
  },
  {
   "cell_type": "code",
   "execution_count": 126,
   "metadata": {
    "scrolled": true
   },
   "outputs": [
    {
     "name": "stdout",
     "output_type": "stream",
     "text": [
      "BsmtQual BsmtExposure 0.519921990397435\n",
      "BsmtQual BsmtFinType1 0.5762597416336843\n",
      "BsmtQual BsmtFinType2 0.4999834506841007\n",
      "BsmtQual BsmtCond 0.52678467697144\n",
      "BsmtExposure BsmtFinType1 0.5211032930093417\n",
      "BsmtExposure BsmtFinType2 0.4906948855026973\n",
      "BsmtExposure BsmtCond 0.4950545265720407\n",
      "BsmtFinType1 BsmtFinType2 0.44650098443076175\n",
      "BsmtFinType1 BsmtCond 0.5069646552368653\n",
      "BsmtFinType2 BsmtCond 0.49444114521958293\n"
     ]
    }
   ],
   "source": [
    "bvars = ['BsmtQual', 'BsmtExposure', 'BsmtFinType1','BsmtFinType2','BsmtCond']\n",
    "for i, vi in enumerate(bvars):\n",
    "    for vj in bvars[(i+1):]:\n",
    "        print(vi, vj, cramers_v(xy[vi], xy[vj]))"
   ]
  },
  {
   "cell_type": "code",
   "execution_count": 97,
   "metadata": {
    "scrolled": true
   },
   "outputs": [
    {
     "name": "stdout",
     "output_type": "stream",
     "text": [
      "        BldgType  LogSalePrice\n",
      "1Fam      1218.0     12.047500\n",
      "2fmCon      31.0     11.725353\n",
      "Duplex      52.0     11.780920\n",
      "TwnhsE     114.0     12.059451\n",
      "Twnhs       43.0     11.773906 \n",
      "\n",
      "        BldgType\n",
      "1Fam        1205\n",
      "2fmCon        31\n",
      "Duplex        57\n",
      "TwnhsE       113\n",
      "Twnhs         53 \n",
      "\n"
     ]
    }
   ],
   "source": [
    "# print(pd.DataFrame(xy['BldgType'].value_counts()).T)\n",
    "# print(pd.DataFrame(xyt['BldgType'].value_counts()).T)\n",
    "print(check_catvar_vs_y(xy, 'BldgType', ['1Fam','2fmCon','Duplex', 'TwnhsE' , 'Twnhs']), '\\n')\n",
    "print(check_catvar_vs_y(xyt, 'BldgType', ['1Fam','2fmCon','Duplex', 'TwnhsE' , 'Twnhs'],False), '\\n')"
   ]
  },
  {
   "cell_type": "code",
   "execution_count": 99,
   "metadata": {},
   "outputs": [
    {
     "name": "stdout",
     "output_type": "stream",
     "text": [
      "            HouseStyle  LogSalePrice\n",
      "HouseStyle                          \n",
      "1Story           726.0     11.993683\n",
      "2Story           443.0     12.183263\n",
      "1.5Fin           154.0     11.813528\n",
      "SLvl              65.0     12.002153\n",
      "SFoyer            37.0     11.786479\n",
      "1.5Unf            14.0     11.595027\n",
      "2.5Unf            11.0     11.908751\n",
      "2.5Fin             8.0     12.194451 \n",
      "\n",
      "        HouseStyle\n",
      "1Story         745\n",
      "2Story         427\n",
      "1.5Fin         160\n",
      "SLvl            63\n",
      "SFoyer          46\n",
      "1.5Unf           5\n",
      "2.5Unf          13 \n",
      "\n"
     ]
    }
   ],
   "source": [
    "# print(pd.DataFrame(xy['HouseStyle'].value_counts()).T)\n",
    "# print(pd.DataFrame(xyt['HouseStyle'].value_counts()).T)\n",
    "print(check_catvar_vs_y(xy, 'HouseStyle', ['1Story','2Story', '1.5Fin', 'SLvl', 'SFoyer', '1.5Unf', '2.5Unf', '2.5Fin']), '\\n')\n",
    "print(check_catvar_vs_y(xyt, 'HouseStyle', ['1Story','2Story', '1.5Fin', 'SLvl', 'SFoyer', '1.5Unf', '2.5Unf'],False), '\\n')"
   ]
  },
  {
   "cell_type": "code",
   "execution_count": 100,
   "metadata": {},
   "outputs": [
    {
     "data": {
      "text/html": [
       "<div>\n",
       "<style scoped>\n",
       "    .dataframe tbody tr th:only-of-type {\n",
       "        vertical-align: middle;\n",
       "    }\n",
       "\n",
       "    .dataframe tbody tr th {\n",
       "        vertical-align: top;\n",
       "    }\n",
       "\n",
       "    .dataframe thead th {\n",
       "        text-align: right;\n",
       "    }\n",
       "</style>\n",
       "<table border=\"1\" class=\"dataframe\">\n",
       "  <thead>\n",
       "    <tr style=\"text-align: right;\">\n",
       "      <th>BldgType</th>\n",
       "      <th>1Fam</th>\n",
       "      <th>2fmCon</th>\n",
       "      <th>Duplex</th>\n",
       "      <th>Twnhs</th>\n",
       "      <th>TwnhsE</th>\n",
       "    </tr>\n",
       "    <tr>\n",
       "      <th>HouseStyle</th>\n",
       "      <th></th>\n",
       "      <th></th>\n",
       "      <th></th>\n",
       "      <th></th>\n",
       "      <th></th>\n",
       "    </tr>\n",
       "  </thead>\n",
       "  <tbody>\n",
       "    <tr>\n",
       "      <th>1.5Fin</th>\n",
       "      <td>142</td>\n",
       "      <td>8</td>\n",
       "      <td>4</td>\n",
       "      <td>0</td>\n",
       "      <td>0</td>\n",
       "    </tr>\n",
       "    <tr>\n",
       "      <th>1.5Unf</th>\n",
       "      <td>13</td>\n",
       "      <td>1</td>\n",
       "      <td>0</td>\n",
       "      <td>0</td>\n",
       "      <td>0</td>\n",
       "    </tr>\n",
       "    <tr>\n",
       "      <th>1Story</th>\n",
       "      <td>607</td>\n",
       "      <td>7</td>\n",
       "      <td>29</td>\n",
       "      <td>5</td>\n",
       "      <td>78</td>\n",
       "    </tr>\n",
       "    <tr>\n",
       "      <th>2.5Fin</th>\n",
       "      <td>7</td>\n",
       "      <td>1</td>\n",
       "      <td>0</td>\n",
       "      <td>0</td>\n",
       "      <td>0</td>\n",
       "    </tr>\n",
       "    <tr>\n",
       "      <th>2.5Unf</th>\n",
       "      <td>9</td>\n",
       "      <td>2</td>\n",
       "      <td>0</td>\n",
       "      <td>0</td>\n",
       "      <td>0</td>\n",
       "    </tr>\n",
       "    <tr>\n",
       "      <th>2Story</th>\n",
       "      <td>360</td>\n",
       "      <td>11</td>\n",
       "      <td>9</td>\n",
       "      <td>33</td>\n",
       "      <td>30</td>\n",
       "    </tr>\n",
       "    <tr>\n",
       "      <th>SFoyer</th>\n",
       "      <td>20</td>\n",
       "      <td>0</td>\n",
       "      <td>9</td>\n",
       "      <td>4</td>\n",
       "      <td>4</td>\n",
       "    </tr>\n",
       "    <tr>\n",
       "      <th>SLvl</th>\n",
       "      <td>60</td>\n",
       "      <td>1</td>\n",
       "      <td>1</td>\n",
       "      <td>1</td>\n",
       "      <td>2</td>\n",
       "    </tr>\n",
       "  </tbody>\n",
       "</table>\n",
       "</div>"
      ],
      "text/plain": [
       "BldgType    1Fam  2fmCon  Duplex  Twnhs  TwnhsE\n",
       "HouseStyle                                     \n",
       "1.5Fin       142       8       4      0       0\n",
       "1.5Unf        13       1       0      0       0\n",
       "1Story       607       7      29      5      78\n",
       "2.5Fin         7       1       0      0       0\n",
       "2.5Unf         9       2       0      0       0\n",
       "2Story       360      11       9     33      30\n",
       "SFoyer        20       0       9      4       4\n",
       "SLvl          60       1       1      1       2"
      ]
     },
     "execution_count": 100,
     "metadata": {},
     "output_type": "execute_result"
    }
   ],
   "source": [
    "pd.crosstab(xy['HouseStyle'], xy['BldgType'])\n",
    "# do nothing"
   ]
  },
  {
   "cell_type": "code",
   "execution_count": 101,
   "metadata": {},
   "outputs": [
    {
     "data": {
      "text/html": [
       "<div>\n",
       "<style scoped>\n",
       "    .dataframe tbody tr th:only-of-type {\n",
       "        vertical-align: middle;\n",
       "    }\n",
       "\n",
       "    .dataframe tbody tr th {\n",
       "        vertical-align: top;\n",
       "    }\n",
       "\n",
       "    .dataframe thead th {\n",
       "        text-align: right;\n",
       "    }\n",
       "</style>\n",
       "<table border=\"1\" class=\"dataframe\">\n",
       "  <thead>\n",
       "    <tr style=\"text-align: right;\">\n",
       "      <th>BldgType</th>\n",
       "      <th>1Fam</th>\n",
       "      <th>2fmCon</th>\n",
       "      <th>Duplex</th>\n",
       "      <th>Twnhs</th>\n",
       "      <th>TwnhsE</th>\n",
       "    </tr>\n",
       "    <tr>\n",
       "      <th>KitchenAbvGr</th>\n",
       "      <th></th>\n",
       "      <th></th>\n",
       "      <th></th>\n",
       "      <th></th>\n",
       "      <th></th>\n",
       "    </tr>\n",
       "  </thead>\n",
       "  <tbody>\n",
       "    <tr>\n",
       "      <th>0</th>\n",
       "      <td>0</td>\n",
       "      <td>0</td>\n",
       "      <td>1</td>\n",
       "      <td>0</td>\n",
       "      <td>0</td>\n",
       "    </tr>\n",
       "    <tr>\n",
       "      <th>1</th>\n",
       "      <td>1212</td>\n",
       "      <td>14</td>\n",
       "      <td>7</td>\n",
       "      <td>43</td>\n",
       "      <td>114</td>\n",
       "    </tr>\n",
       "    <tr>\n",
       "      <th>2</th>\n",
       "      <td>5</td>\n",
       "      <td>16</td>\n",
       "      <td>44</td>\n",
       "      <td>0</td>\n",
       "      <td>0</td>\n",
       "    </tr>\n",
       "    <tr>\n",
       "      <th>3</th>\n",
       "      <td>1</td>\n",
       "      <td>1</td>\n",
       "      <td>0</td>\n",
       "      <td>0</td>\n",
       "      <td>0</td>\n",
       "    </tr>\n",
       "  </tbody>\n",
       "</table>\n",
       "</div>"
      ],
      "text/plain": [
       "BldgType      1Fam  2fmCon  Duplex  Twnhs  TwnhsE\n",
       "KitchenAbvGr                                     \n",
       "0                0       0       1      0       0\n",
       "1             1212      14       7     43     114\n",
       "2                5      16      44      0       0\n",
       "3                1       1       0      0       0"
      ]
     },
     "execution_count": 101,
     "metadata": {},
     "output_type": "execute_result"
    }
   ],
   "source": [
    "pd.crosstab(xy['KitchenAbvGr'],xy['BldgType'])"
   ]
  },
  {
   "cell_type": "code",
   "execution_count": 102,
   "metadata": {},
   "outputs": [
    {
     "data": {
      "text/html": [
       "<div>\n",
       "<style scoped>\n",
       "    .dataframe tbody tr th:only-of-type {\n",
       "        vertical-align: middle;\n",
       "    }\n",
       "\n",
       "    .dataframe tbody tr th {\n",
       "        vertical-align: top;\n",
       "    }\n",
       "\n",
       "    .dataframe thead th {\n",
       "        text-align: right;\n",
       "    }\n",
       "</style>\n",
       "<table border=\"1\" class=\"dataframe\">\n",
       "  <thead>\n",
       "    <tr style=\"text-align: right;\">\n",
       "      <th>BldgType</th>\n",
       "      <th>1Fam</th>\n",
       "      <th>2fmCon</th>\n",
       "      <th>Duplex</th>\n",
       "      <th>Twnhs</th>\n",
       "      <th>TwnhsE</th>\n",
       "    </tr>\n",
       "    <tr>\n",
       "      <th>KitchenAbvGr</th>\n",
       "      <th></th>\n",
       "      <th></th>\n",
       "      <th></th>\n",
       "      <th></th>\n",
       "      <th></th>\n",
       "    </tr>\n",
       "  </thead>\n",
       "  <tbody>\n",
       "    <tr>\n",
       "      <th>0</th>\n",
       "      <td>0</td>\n",
       "      <td>0</td>\n",
       "      <td>1</td>\n",
       "      <td>0</td>\n",
       "      <td>0</td>\n",
       "    </tr>\n",
       "    <tr>\n",
       "      <th>1</th>\n",
       "      <td>1212</td>\n",
       "      <td>14</td>\n",
       "      <td>7</td>\n",
       "      <td>43</td>\n",
       "      <td>114</td>\n",
       "    </tr>\n",
       "    <tr>\n",
       "      <th>2</th>\n",
       "      <td>5</td>\n",
       "      <td>16</td>\n",
       "      <td>44</td>\n",
       "      <td>0</td>\n",
       "      <td>0</td>\n",
       "    </tr>\n",
       "    <tr>\n",
       "      <th>3</th>\n",
       "      <td>1</td>\n",
       "      <td>1</td>\n",
       "      <td>0</td>\n",
       "      <td>0</td>\n",
       "      <td>0</td>\n",
       "    </tr>\n",
       "  </tbody>\n",
       "</table>\n",
       "</div>"
      ],
      "text/plain": [
       "BldgType      1Fam  2fmCon  Duplex  Twnhs  TwnhsE\n",
       "KitchenAbvGr                                     \n",
       "0                0       0       1      0       0\n",
       "1             1212      14       7     43     114\n",
       "2                5      16      44      0       0\n",
       "3                1       1       0      0       0"
      ]
     },
     "execution_count": 102,
     "metadata": {},
     "output_type": "execute_result"
    }
   ],
   "source": [
    "pd.crosstab(xy['KitchenAbvGr'],xy['BldgType'])"
   ]
  },
  {
   "cell_type": "code",
   "execution_count": null,
   "metadata": {},
   "outputs": [],
   "source": []
  }
 ],
 "metadata": {
  "kernelspec": {
   "display_name": "Python 3",
   "language": "python",
   "name": "python3"
  },
  "language_info": {
   "codemirror_mode": {
    "name": "ipython",
    "version": 3
   },
   "file_extension": ".py",
   "mimetype": "text/x-python",
   "name": "python",
   "nbconvert_exporter": "python",
   "pygments_lexer": "ipython3",
   "version": "3.7.0"
  }
 },
 "nbformat": 4,
 "nbformat_minor": 2
}
